{
 "cells": [
  {
   "cell_type": "markdown",
   "metadata": {},
   "source": [
    "# Aditri Chatterjee"
   ]
  },
  {
   "cell_type": "markdown",
   "metadata": {},
   "source": [
    "## Research question/interests\n",
    "\n",
    "I am interested in researching the relationship between BMI and medical insurance costs for people aged between 20 and 40.\n",
    "\n",
    "**H0:** There is a direct relationship between BMI and medical insurance costs, i.e. higher the BMI, higher the costs.\n",
    "\n",
    "**H1:** There is an inverse relationshhip between BMI and medical insurance costs, i.e. higher the BMI, lower the costs./n\n",
    "\n",
    "**H2:** There is no significant relationship between BMI and medical insurance costs, i.e BMI value is not correlated with the costs infered by a patient."
   ]
  },
  {
   "cell_type": "code",
   "execution_count": null,
   "metadata": {},
   "outputs": [],
   "source": []
  }
 ],
 "metadata": {
  "kernelspec": {
   "display_name": "Python 3 (ipykernel)",
   "language": "python",
   "name": "python3"
  }
 },
 "nbformat": 4,
 "nbformat_minor": 4
}
