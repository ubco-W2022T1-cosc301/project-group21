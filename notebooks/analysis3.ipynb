{
 "cells": [
  {
   "cell_type": "markdown",
   "metadata": {},
   "source": [
    "# Spandan Ghevriya"
   ]
  },
  {
   "cell_type": "markdown",
   "metadata": {},
   "source": [
    "## Research question/interests\n",
    "Is there a positive corrrelation between an individual's age and the medical costs billed by health insurance?\n",
    "H0:There is no significant positive correlation between an individual's age and the medical costs billed by health insurance.\n",
    "H1:There is a significant positive correlation between an individual's age and the medical costs billed by health insurance.\n",
    "\n",
    "Is there a significant difference of medical costs billed between a smoker and a non-smoker?\n",
    "H0:There is no significant difference of medical costs billed between a smoker and a non-smoker.\n",
    "H1:There is a significant difference of medical costs billed between a smoker and a non-smoker."
   ]
  },
  {
   "cell_type": "code",
   "execution_count": null,
   "metadata": {},
   "outputs": [],
   "source": []
  }
 ],
 "metadata": {
  "kernelspec": {
   "display_name": "Python 3",
   "language": "python",
   "name": "python3"
  }
 },
 "nbformat": 4,
 "nbformat_minor": 4
}
