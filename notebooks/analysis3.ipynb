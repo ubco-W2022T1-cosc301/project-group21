{
 "cells": [
  {
   "cell_type": "markdown",
   "id": "42194735-53d0-4d77-8657-b1b1078a3888",
   "metadata": {},
   "source": [
    "# Spandan Ghevriya"
   ]
  },
  {
   "cell_type": "markdown",
   "id": "249a03fe-465d-466c-99f1-14f8b8f773f5",
   "metadata": {},
   "source": [
    "## Research question/interests\n",
    "Is there a positive corrrelation between an individual's age and the medical costs billed by health insurance?\n",
    "\n",
    "Is there a significant difference of medical costs billed between a smoker and a non-smoker?\n"
   ]
  },
  {
   "cell_type": "code",
   "execution_count": null,
   "id": "84d10a54-bd7f-4694-943e-ad65f221a0d8",
   "metadata": {},
   "outputs": [],
   "source": [
    "import pandas as pd\n",
    "import numpy as np\n",
    "import matplotlib.pylab as plt\n",
    "import seaborn as sns\n",
    "import project_functions3 as p3\n",
    "import statistics"
   ]
  },
  {
   "cell_type": "code",
   "execution_count": null,
   "id": "35b58919-eaba-4141-8e6e-3574be87cfa0",
   "metadata": {},
   "outputs": [
    {
     "name": "stdout",
     "output_type": "stream",
     "text": [
      "This is the original set of data. To answer our research question, we only need information regarding age, if the individual smokes or not, and their total bills.\n",
      "\n"
     ]
    },
    {
     "data": {
      "text/html": [
       "<div>\n",
       "<style scoped>\n",
       "    .dataframe tbody tr th:only-of-type {\n",
       "        vertical-align: middle;\n",
       "    }\n",
       "\n",
       "    .dataframe tbody tr th {\n",
       "        vertical-align: top;\n",
       "    }\n",
       "\n",
       "    .dataframe thead th {\n",
       "        text-align: right;\n",
       "    }\n",
       "</style>\n",
       "<table border=\"1\" class=\"dataframe\">\n",
       "  <thead>\n",
       "    <tr style=\"text-align: right;\">\n",
       "      <th></th>\n",
       "      <th>age</th>\n",
       "      <th>sex</th>\n",
       "      <th>bmi</th>\n",
       "      <th>children</th>\n",
       "      <th>smoker</th>\n",
       "      <th>region</th>\n",
       "      <th>charges</th>\n",
       "    </tr>\n",
       "  </thead>\n",
       "  <tbody>\n",
       "    <tr>\n",
       "      <th>0</th>\n",
       "      <td>19</td>\n",
       "      <td>female</td>\n",
       "      <td>27.900</td>\n",
       "      <td>0</td>\n",
       "      <td>yes</td>\n",
       "      <td>southwest</td>\n",
       "      <td>16884.92400</td>\n",
       "    </tr>\n",
       "    <tr>\n",
       "      <th>1</th>\n",
       "      <td>18</td>\n",
       "      <td>male</td>\n",
       "      <td>33.770</td>\n",
       "      <td>1</td>\n",
       "      <td>no</td>\n",
       "      <td>southeast</td>\n",
       "      <td>1725.55230</td>\n",
       "    </tr>\n",
       "    <tr>\n",
       "      <th>2</th>\n",
       "      <td>28</td>\n",
       "      <td>male</td>\n",
       "      <td>33.000</td>\n",
       "      <td>3</td>\n",
       "      <td>no</td>\n",
       "      <td>southeast</td>\n",
       "      <td>4449.46200</td>\n",
       "    </tr>\n",
       "    <tr>\n",
       "      <th>3</th>\n",
       "      <td>33</td>\n",
       "      <td>male</td>\n",
       "      <td>22.705</td>\n",
       "      <td>0</td>\n",
       "      <td>no</td>\n",
       "      <td>northwest</td>\n",
       "      <td>21984.47061</td>\n",
       "    </tr>\n",
       "    <tr>\n",
       "      <th>4</th>\n",
       "      <td>32</td>\n",
       "      <td>male</td>\n",
       "      <td>28.880</td>\n",
       "      <td>0</td>\n",
       "      <td>no</td>\n",
       "      <td>northwest</td>\n",
       "      <td>3866.85520</td>\n",
       "    </tr>\n",
       "    <tr>\n",
       "      <th>...</th>\n",
       "      <td>...</td>\n",
       "      <td>...</td>\n",
       "      <td>...</td>\n",
       "      <td>...</td>\n",
       "      <td>...</td>\n",
       "      <td>...</td>\n",
       "      <td>...</td>\n",
       "    </tr>\n",
       "    <tr>\n",
       "      <th>1333</th>\n",
       "      <td>50</td>\n",
       "      <td>male</td>\n",
       "      <td>30.970</td>\n",
       "      <td>3</td>\n",
       "      <td>no</td>\n",
       "      <td>northwest</td>\n",
       "      <td>10600.54830</td>\n",
       "    </tr>\n",
       "    <tr>\n",
       "      <th>1334</th>\n",
       "      <td>18</td>\n",
       "      <td>female</td>\n",
       "      <td>31.920</td>\n",
       "      <td>0</td>\n",
       "      <td>no</td>\n",
       "      <td>northeast</td>\n",
       "      <td>2205.98080</td>\n",
       "    </tr>\n",
       "    <tr>\n",
       "      <th>1335</th>\n",
       "      <td>18</td>\n",
       "      <td>female</td>\n",
       "      <td>36.850</td>\n",
       "      <td>0</td>\n",
       "      <td>no</td>\n",
       "      <td>southeast</td>\n",
       "      <td>1629.83350</td>\n",
       "    </tr>\n",
       "    <tr>\n",
       "      <th>1336</th>\n",
       "      <td>21</td>\n",
       "      <td>female</td>\n",
       "      <td>25.800</td>\n",
       "      <td>0</td>\n",
       "      <td>no</td>\n",
       "      <td>southwest</td>\n",
       "      <td>2007.94500</td>\n",
       "    </tr>\n",
       "    <tr>\n",
       "      <th>1337</th>\n",
       "      <td>61</td>\n",
       "      <td>female</td>\n",
       "      <td>29.070</td>\n",
       "      <td>0</td>\n",
       "      <td>yes</td>\n",
       "      <td>northwest</td>\n",
       "      <td>29141.36030</td>\n",
       "    </tr>\n",
       "  </tbody>\n",
       "</table>\n",
       "<p>1338 rows × 7 columns</p>\n",
       "</div>"
      ],
      "text/plain": [
       "      age     sex     bmi  children smoker     region      charges\n",
       "0      19  female  27.900         0    yes  southwest  16884.92400\n",
       "1      18    male  33.770         1     no  southeast   1725.55230\n",
       "2      28    male  33.000         3     no  southeast   4449.46200\n",
       "3      33    male  22.705         0     no  northwest  21984.47061\n",
       "4      32    male  28.880         0     no  northwest   3866.85520\n",
       "...   ...     ...     ...       ...    ...        ...          ...\n",
       "1333   50    male  30.970         3     no  northwest  10600.54830\n",
       "1334   18  female  31.920         0     no  northeast   2205.98080\n",
       "1335   18  female  36.850         0     no  southeast   1629.83350\n",
       "1336   21  female  25.800         0     no  southwest   2007.94500\n",
       "1337   61  female  29.070         0    yes  northwest  29141.36030\n",
       "\n",
       "[1338 rows x 7 columns]"
      ]
     },
     "metadata": {},
     "output_type": "display_data"
    }
   ],
   "source": [
    "print(f'This is the original set of data. To answer our research question, we only need information regarding age, if the individual smokes or not, and their total bills.\\n')\n",
    "dfMain = pd.read_csv(\"../data/raw/raw_MC.csv\")\n",
    "display(dfMain)"
   ]
  },
  {
   "cell_type": "code",
   "execution_count": null,
   "id": "a3dfe077-3492-426d-9837-465b9d5e0202",
   "metadata": {},
   "outputs": [
    {
     "name": "stdout",
     "output_type": "stream",
     "text": [
      "The data set is then modified to only include the relevant information needed for the analysis.\n",
      "The values of \"Total Charges\" was rounded to the nearest whole number.\n",
      "Duplicate values have been dropped from the dataset.\n",
      "The variable \"Smoker\" has been changed from an object to a category to categorize the \"no\" and \"yes\" values.\n",
      "\n"
     ]
    },
    {
     "data": {
      "text/html": [
       "<div>\n",
       "<style scoped>\n",
       "    .dataframe tbody tr th:only-of-type {\n",
       "        vertical-align: middle;\n",
       "    }\n",
       "\n",
       "    .dataframe tbody tr th {\n",
       "        vertical-align: top;\n",
       "    }\n",
       "\n",
       "    .dataframe thead th {\n",
       "        text-align: right;\n",
       "    }\n",
       "</style>\n",
       "<table border=\"1\" class=\"dataframe\">\n",
       "  <thead>\n",
       "    <tr style=\"text-align: right;\">\n",
       "      <th></th>\n",
       "      <th>Age</th>\n",
       "      <th>Smoker</th>\n",
       "      <th>Total_Charges</th>\n",
       "    </tr>\n",
       "  </thead>\n",
       "  <tbody>\n",
       "    <tr>\n",
       "      <th>0</th>\n",
       "      <td>19</td>\n",
       "      <td>yes</td>\n",
       "      <td>16884.92</td>\n",
       "    </tr>\n",
       "    <tr>\n",
       "      <th>1</th>\n",
       "      <td>18</td>\n",
       "      <td>no</td>\n",
       "      <td>1725.55</td>\n",
       "    </tr>\n",
       "    <tr>\n",
       "      <th>2</th>\n",
       "      <td>28</td>\n",
       "      <td>no</td>\n",
       "      <td>4449.46</td>\n",
       "    </tr>\n",
       "    <tr>\n",
       "      <th>3</th>\n",
       "      <td>33</td>\n",
       "      <td>no</td>\n",
       "      <td>21984.47</td>\n",
       "    </tr>\n",
       "    <tr>\n",
       "      <th>4</th>\n",
       "      <td>32</td>\n",
       "      <td>no</td>\n",
       "      <td>3866.86</td>\n",
       "    </tr>\n",
       "    <tr>\n",
       "      <th>...</th>\n",
       "      <td>...</td>\n",
       "      <td>...</td>\n",
       "      <td>...</td>\n",
       "    </tr>\n",
       "    <tr>\n",
       "      <th>1333</th>\n",
       "      <td>50</td>\n",
       "      <td>no</td>\n",
       "      <td>10600.55</td>\n",
       "    </tr>\n",
       "    <tr>\n",
       "      <th>1334</th>\n",
       "      <td>18</td>\n",
       "      <td>no</td>\n",
       "      <td>2205.98</td>\n",
       "    </tr>\n",
       "    <tr>\n",
       "      <th>1335</th>\n",
       "      <td>18</td>\n",
       "      <td>no</td>\n",
       "      <td>1629.83</td>\n",
       "    </tr>\n",
       "    <tr>\n",
       "      <th>1336</th>\n",
       "      <td>21</td>\n",
       "      <td>no</td>\n",
       "      <td>2007.94</td>\n",
       "    </tr>\n",
       "    <tr>\n",
       "      <th>1337</th>\n",
       "      <td>61</td>\n",
       "      <td>yes</td>\n",
       "      <td>29141.36</td>\n",
       "    </tr>\n",
       "  </tbody>\n",
       "</table>\n",
       "<p>1337 rows × 3 columns</p>\n",
       "</div>"
      ],
      "text/plain": [
       "      Age Smoker  Total_Charges\n",
       "0      19    yes       16884.92\n",
       "1      18     no        1725.55\n",
       "2      28     no        4449.46\n",
       "3      33     no       21984.47\n",
       "4      32     no        3866.86\n",
       "...   ...    ...            ...\n",
       "1333   50     no       10600.55\n",
       "1334   18     no        2205.98\n",
       "1335   18     no        1629.83\n",
       "1336   21     no        2007.94\n",
       "1337   61    yes       29141.36\n",
       "\n",
       "[1337 rows x 3 columns]"
      ]
     },
     "metadata": {},
     "output_type": "display_data"
    }
   ],
   "source": [
    "print(f'The data set is then modified to only include the relevant information needed for the analysis.\\nThe values of \"Total Charges\" was rounded to the nearest whole number.\\nDuplicate values have been dropped from the dataset.\\nThe variable \"Smoker\" has been changed from an object to a category to categorize the \"no\" and \"yes\" values.\\n')\n",
    "df = p3.load_and_process(\"../data/raw/raw_MC.csv\")\n",
    "display(df)"
   ]
  },
  {
   "cell_type": "code",
   "execution_count": null,
   "id": "75d1a0c3-7400-452d-9695-12f57c4bc5ae",
   "metadata": {},
   "outputs": [
    {
     "name": "stdout",
     "output_type": "stream",
     "text": [
      "There are no null values in this dataset\n"
     ]
    }
   ],
   "source": [
    "# generate preview of entries with null values\n",
    "p3.null(df)"
   ]
  },
  {
   "cell_type": "code",
   "execution_count": null,
   "id": "7e3434bd-36a1-4cb2-ba47-0ec727ac4bb8",
   "metadata": {},
   "outputs": [
    {
     "name": "stdout",
     "output_type": "stream",
     "text": [
      "The age of the people in this dataset range from 18 to 64 with a mean of 39.2.\n",
      "Total charges for these people range from $1121.87 to $63770.43 with a mean of $13279.12.\n",
      "There are a total of 274 smokers and 1063 non-smokers in this dataset.\n"
     ]
    }
   ],
   "source": [
    "p3.describe(df)"
   ]
  },
  {
   "cell_type": "code",
   "execution_count": null,
   "id": "6698dded-b0bf-4839-b20e-df1796dc7741",
   "metadata": {},
   "outputs": [
    {
     "name": "stdout",
     "output_type": "stream",
     "text": [
      "A KDE plot presents the continuous probability density curve of total medical insurance bills.\n",
      "This data is positively skewed, and it shows that majority of the people pay costs less than $20,000.\n",
      "Factors such as their age and if they smoke may affect their costs. This will be explored through further analysis and interpretation.\n"
     ]
    },
    {
     "data": {
      "image/png": "[encoded data removed]",
      "text/plain": [
       "<Figure size 576x432 with 1 Axes>"
      ]
     },
     "metadata": {
      "needs_background": "light"
     },
     "output_type": "display_data"
    }
   ],
   "source": [
    "print(f'A KDE plot presents the continuous probability density curve of total medical insurance bills.\\nThis data is positively skewed, and it shows that majority of the people pay costs less than $20,000.\\nFactors such as their age and if they smoke may affect their costs. This will be explored through further analysis and interpretation.')\n",
    "plt.figure(figsize=(8,6))\n",
    "hist = sns.histplot(data=df, x=\"Total_Charges\", color = \"brown\")"
   ]
  },
  {
   "cell_type": "code",
   "execution_count": null,
   "id": "f5435a29-9dee-441e-b857-8c1d57731392",
   "metadata": {},
   "outputs": [
    {
     "name": "stdout",
     "output_type": "stream",
     "text": [
      "I am graphing a correlation matrix to gain general understanding of all of my numeric variables. \n",
      "All of the variables have a correlation in the positive direction.\n",
      "\n"
     ]
    },
    {
     "data": {
      "image/png": "[encoded data removed]",
      "text/plain": [
       "<Figure size 576x432 with 2 Axes>"
      ]
     },
     "metadata": {
      "needs_background": "light"
     },
     "output_type": "display_data"
    }
   ],
   "source": [
    "print(f'I am graphing a correlation matrix to gain general understanding of all of my numeric variables. \\nAll of the variables have a correlation in the positive direction.\\n')\n",
    "plt.figure(figsize=(8,6))\n",
    "corrMix = dfMain.corr()\n",
    "corrMix = sns.heatmap(corrMix, annot=True, cmap=sns.cubehelix_palette(as_cmap=True))"
   ]
  },
  {
   "cell_type": "code",
   "execution_count": null,
   "id": "2b946c0f-3e39-48b1-9bfa-f472babb1b3b",
   "metadata": {},
   "outputs": [
    {
     "name": "stdout",
     "output_type": "stream",
     "text": [
      "There were 7 outliers for the variable \"Total Charges\" in the original dataset that have now been removed.\n",
      "\n"
     ]
    },
    {
     "data": {
      "text/html": [
       "<div>\n",
       "<style scoped>\n",
       "    .dataframe tbody tr th:only-of-type {\n",
       "        vertical-align: middle;\n",
       "    }\n",
       "\n",
       "    .dataframe tbody tr th {\n",
       "        vertical-align: top;\n",
       "    }\n",
       "\n",
       "    .dataframe thead th {\n",
       "        text-align: right;\n",
       "    }\n",
       "</style>\n",
       "<table border=\"1\" class=\"dataframe\">\n",
       "  <thead>\n",
       "    <tr style=\"text-align: right;\">\n",
       "      <th></th>\n",
       "      <th>Age</th>\n",
       "      <th>Smoker</th>\n",
       "      <th>Total_Charges</th>\n",
       "    </tr>\n",
       "  </thead>\n",
       "  <tbody>\n",
       "    <tr>\n",
       "      <th>0</th>\n",
       "      <td>19</td>\n",
       "      <td>yes</td>\n",
       "      <td>16884.92</td>\n",
       "    </tr>\n",
       "    <tr>\n",
       "      <th>1</th>\n",
       "      <td>18</td>\n",
       "      <td>no</td>\n",
       "      <td>1725.55</td>\n",
       "    </tr>\n",
       "    <tr>\n",
       "      <th>2</th>\n",
       "      <td>28</td>\n",
       "      <td>no</td>\n",
       "      <td>4449.46</td>\n",
       "    </tr>\n",
       "    <tr>\n",
       "      <th>3</th>\n",
       "      <td>33</td>\n",
       "      <td>no</td>\n",
       "      <td>21984.47</td>\n",
       "    </tr>\n",
       "    <tr>\n",
       "      <th>4</th>\n",
       "      <td>32</td>\n",
       "      <td>no</td>\n",
       "      <td>3866.86</td>\n",
       "    </tr>\n",
       "    <tr>\n",
       "      <th>...</th>\n",
       "      <td>...</td>\n",
       "      <td>...</td>\n",
       "      <td>...</td>\n",
       "    </tr>\n",
       "    <tr>\n",
       "      <th>1325</th>\n",
       "      <td>50</td>\n",
       "      <td>no</td>\n",
       "      <td>10600.55</td>\n",
       "    </tr>\n",
       "    <tr>\n",
       "      <th>1326</th>\n",
       "      <td>18</td>\n",
       "      <td>no</td>\n",
       "      <td>2205.98</td>\n",
       "    </tr>\n",
       "    <tr>\n",
       "      <th>1327</th>\n",
       "      <td>18</td>\n",
       "      <td>no</td>\n",
       "      <td>1629.83</td>\n",
       "    </tr>\n",
       "    <tr>\n",
       "      <th>1328</th>\n",
       "      <td>21</td>\n",
       "      <td>no</td>\n",
       "      <td>2007.94</td>\n",
       "    </tr>\n",
       "    <tr>\n",
       "      <th>1329</th>\n",
       "      <td>61</td>\n",
       "      <td>yes</td>\n",
       "      <td>29141.36</td>\n",
       "    </tr>\n",
       "  </tbody>\n",
       "</table>\n",
       "<p>1330 rows × 3 columns</p>\n",
       "</div>"
      ],
      "text/plain": [
       "      Age Smoker  Total_Charges\n",
       "0      19    yes       16884.92\n",
       "1      18     no        1725.55\n",
       "2      28     no        4449.46\n",
       "3      33     no       21984.47\n",
       "4      32     no        3866.86\n",
       "...   ...    ...            ...\n",
       "1325   50     no       10600.55\n",
       "1326   18     no        2205.98\n",
       "1327   18     no        1629.83\n",
       "1328   21     no        2007.94\n",
       "1329   61    yes       29141.36\n",
       "\n",
       "[1330 rows x 3 columns]"
      ]
     },
     "metadata": {},
     "output_type": "display_data"
    }
   ],
   "source": [
    "dfOut = p3.removeOutliers(df)\n",
    "print(f'There were 7 outliers for the variable \"Total Charges\" in the original dataset that have now been removed.\\n')\n",
    "display(dfOut)"
   ]
  },
  {
   "cell_type": "code",
   "execution_count": null,
   "id": "feee27a9-93d6-44ef-be63-63916e91f902",
   "metadata": {},
   "outputs": [
    {
     "data": {
      "image/png": "[encoded data removed]",
      "text/plain": [
       "<Figure size 432x288 with 1 Axes>"
      ]
     },
     "metadata": {
      "needs_background": "light"
     },
     "output_type": "display_data"
    },
    {
     "data": {
      "image/png": "[encoded data removed]",
      "text/plain": [
       "<Figure size 432x432 with 3 Axes>"
      ]
     },
     "metadata": {
      "needs_background": "light"
     },
     "output_type": "display_data"
    }
   ],
   "source": [
    "plot1 = sns.barplot(data=dfOut, x=\"Smoker\", y=\"Total_Charges\", errorbar = (\"se\"), palette = ['blue','red'])\n",
    "plot1 = plt.title('Plot 1\\nMedical Insurance Bills for Smokers and Non-Smokers', fontsize = 15)\n",
    "\n",
    "plot2 = sns.jointplot(x='Age', y='Total_Charges', data = dfOut, kind='reg', color = \"purple\")\n",
    "plot2 = plt.title(\"Plot 2\\nIncreasing Age and Medical Insurance Bills\", fontsize = 15, y = 1.25)\n"
   ]
  },
  {
   "cell_type": "markdown",
   "id": "fc038a00-31a5-417d-9e47-5b13bf55593c",
   "metadata": {},
   "source": [
    "# Summary"
   ]
  },
  {
   "cell_type": "markdown",
   "id": "e6303f76-0572-46b1-a171-a14000d67e9d",
   "metadata": {},
   "source": [
    "#### Research Question 1: Is there a significant difference of medical costs billed between a smoker and a non-smoker?\n",
    "\n",
    "H0:There is no significant difference of medical costs billed between a smoker and a non-smoker.\n",
    "\n",
    "H1:There is a significant difference of medical costs billed between a smoker and a non-smoker.\n",
    "\n",
    "A barplot focuses on distributions using categorical data in reference to numerical data. Through the observations made in Plot 1, it can be seen that there is a noticeably higher amount of medical insurance charges associated with smokers compared to non-smokers. There is a potentially a statistically significant difference for the total medical costs of an individual between a smoker and a non-smoker. To understand if the data is statistically significant, an independent samples t-test has to be done by studying the hypotheses stated above.  \n",
    "\n",
    "****\n",
    "\n",
    "#### Research Question 2: Is there a positive corrrelation between an individual's age and the medical costs billed by health insurance?\n",
    "\n",
    "H0:There is no significant positive correlation between an individual's age and the medical costs billed by health insurance.\n",
    "\n",
    "H1:There is a significant positive correlation between an individual's age and the medical costs billed by health insurance.\n",
    "\n",
    "The jointplot (Plot 2) illustrate a positive linear correlation between an individual's age and the medical costs billed by health insurance. In other words, medical insurance costs are higher with increasing age. To find a effect size of this correlation, a Pearson's correlation test has to be done to study the hypotheses stated above. In the future, this research question could be studied more indepth with other factors such as bmi or gender which may interact with age to result in particular medical bills. \n"
   ]
  },
  {
   "cell_type": "code",
   "execution_count": null,
   "id": "2d19d2cf-696b-4631-b4ee-c4a26d44bcf6",
   "metadata": {},
   "outputs": [],
   "source": [
    "dfOut.to_csv(\"../data/processed/analysis3data.csv\")"
   ]
  }
 ],
 "metadata": {
  "kernelspec": {
   "display_name": "Python 3",
   "language": "python",
   "name": "python3"
  }
 },
 "nbformat": 4,
 "nbformat_minor": 5
}
