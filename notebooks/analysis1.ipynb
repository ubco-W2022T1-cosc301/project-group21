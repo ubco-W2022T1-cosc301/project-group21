{
 "cells": [
  {
   "cell_type": "markdown",
   "metadata": {},
   "source": [
    "Osho Gnanasivam"
   ]
  },
  {
   "cell_type": "markdown",
   "metadata": {},
   "source": [
    "## Research Question**\n",
    "\n",
    "Understanding the effect of different variables on the charges of medical coverage to find out a relationship between them."
   ]
  },
  {
   "cell_type": "markdown",
   "metadata": {},
   "source": [
    "## Description of Variables\n",
    "\n",
    "- **Age:** Age of primary beneficiary\n",
    "- **Sex:** Insurance contractor gender: female, male\n",
    "- **BMI:** Body Mass Index, used as an indicator of body health, weights that are relatively high or low relative to height, objective index of body              weight (kg / m ^ 2) using the ratio of height to weight, ideally 18.5 to 24.9\n",
    "- **Children:** Number of children covered by health insurance / Number of dependents (of beneficiary)\n",
    "- **Smoker:** Whether beneficiary smokes or not\n",
    "- **Region:** the beneficiary's residential area in the US: northeast, southeast, southwest, northwest.\n",
    "- **Charges:** Individual medical costs billed by health insurance"
   ]
  },
  {
   "cell_type": "code",
   "execution_count": null,
   "metadata": {},
   "outputs": [],
   "source": []
  }
 ],
 "metadata": {
  "kernelspec": {
   "display_name": "Python 3",
   "language": "python",
   "name": "python3"
  }
 },
 "nbformat": 4,
 "nbformat_minor": 4
}
